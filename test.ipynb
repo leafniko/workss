{
 "cells": [
  {
   "cell_type": "code",
   "execution_count": 3,
   "id": "db86e7b1",
   "metadata": {},
   "outputs": [],
   "source": [
    "from recorde_active_window import handle_raw as raw\n",
    "rdb = raw.HandleRaw()"
   ]
  },
  {
   "cell_type": "code",
   "execution_count": 1,
   "id": "1aaf0340",
   "metadata": {},
   "outputs": [
    {
     "name": "stdout",
     "output_type": "stream",
     "text": [
      "{('table', 'awrecorde', 'awrecorde', 2, 'CREATE TABLE awrecorde(id integer PRIMARY KEY AUTOINCREMENT, MajorItem text, MinorItem text, time integer)')}\n"
     ]
    }
   ],
   "source": [
    "import workss\n",
    "inst = workss.WorkSS()\n"
   ]
  },
  {
   "cell_type": "code",
   "execution_count": 2,
   "id": "5f9f5afd",
   "metadata": {},
   "outputs": [
    {
     "name": "stdout",
     "output_type": "stream",
     "text": [
      "{(12, 3)}\n",
      "{(12, 4)}\n",
      "{(12, 5)}\n",
      "{(20, 2)}\n",
      "{(17, 2)}\n",
      "{(17, 3)}\n",
      "{(18, 2)}\n",
      "{(18, 3)}\n",
      "{(18, 4)}\n",
      "{(18, 5)}\n",
      "{(22, 2)}\n",
      "{(21, 2)}\n",
      "{(18, 6)}\n",
      "{(18, 7)}\n",
      "{(12, 6)}\n",
      "{(12, 7)}\n",
      "{(12, 8)}\n",
      "{(18, 8)}\n",
      "{(18, 9)}\n",
      "{(15, 2)}\n",
      "{(15, 3)}\n",
      "{(15, 4)}\n",
      "{(15, 5)}\n",
      "{(15, 6)}\n",
      "{(15, 7)}\n",
      "{(24, 2)}\n",
      "{(24, 3)}\n",
      "{(24, 4)}\n",
      "{(24, 5)}\n",
      "{(24, 6)}\n",
      "{(24, 7)}\n",
      "{(24, 8)}\n",
      "{(24, 9)}\n",
      "{(24, 10)}\n",
      "{(24, 11)}\n",
      "{(24, 12)}\n",
      "{(24, 13)}\n",
      "{(24, 14)}\n",
      "{(24, 15)}\n",
      "{(24, 16)}\n",
      "{(24, 17)}\n",
      "{(24, 18)}\n",
      "{(24, 19)}\n",
      "{(24, 20)}\n",
      "{(14, 2)}\n",
      "{(14, 3)}\n",
      "{(15, 8)}\n",
      "{(15, 9)}\n",
      "{(15, 10)}\n",
      "{(18, 10)}\n",
      "{(18, 11)}\n",
      "{(18, 12)}\n",
      "{(18, 13)}\n",
      "{(18, 14)}\n",
      "{(12, 9)}\n",
      "{(12, 10)}\n",
      "{(12, 11)}\n",
      "{(18, 15)}\n",
      "{(18, 16)}\n",
      "{(18, 17)}\n",
      "{(18, 18)}\n",
      "{(23, 2)}\n",
      "{(26, 2)}\n",
      "{(26, 3)}\n",
      "{(26, 4)}\n",
      "{(26, 5)}\n",
      "{(26, 6)}\n",
      "{(26, 7)}\n",
      "{(26, 8)}\n",
      "{(26, 9)}\n",
      "{(26, 10)}\n",
      "{(26, 11)}\n",
      "{(26, 12)}\n",
      "{(18, 19)}\n",
      "{(18, 20)}\n"
     ]
    },
    {
     "name": "stdout",
     "output_type": "stream",
     "text": [
      "{(12, 12)}\n"
     ]
    }
   ],
   "source": [
    "inst.main()"
   ]
  },
  {
   "cell_type": "code",
   "execution_count": 7,
   "id": "e8d38ad0",
   "metadata": {},
   "outputs": [],
   "source": [
    "inst.chk_active_window()\n"
   ]
  },
  {
   "cell_type": "code",
   "execution_count": 6,
   "id": "e90e2c91",
   "metadata": {},
   "outputs": [],
   "source": [
    "inst.status = \"start\""
   ]
  },
  {
   "cell_type": "code",
   "execution_count": null,
   "id": "6a6f701c",
   "metadata": {},
   "outputs": [],
   "source": []
  },
  {
   "cell_type": "code",
   "execution_count": 20,
   "id": "1b36fd62",
   "metadata": {},
   "outputs": [],
   "source": [
    "import importlib\n",
    "importlib.reload(raw)\n",
    "rdb = raw.HandleRaw()"
   ]
  },
  {
   "cell_type": "code",
   "execution_count": 2,
   "id": "6138f09e",
   "metadata": {},
   "outputs": [],
   "source": [
    "rdb.output_db()"
   ]
  },
  {
   "cell_type": "code",
   "execution_count": 17,
   "id": "cde05540",
   "metadata": {},
   "outputs": [
    {
     "ename": "TypeError",
     "evalue": "can only join an iterable",
     "output_type": "error",
     "traceback": [
      "\u001b[1;31m---------------------------------------------------------------------------\u001b[0m",
      "\u001b[1;31mTypeError\u001b[0m                                 Traceback (most recent call last)",
      "Cell \u001b[1;32mIn [17], line 1\u001b[0m\n\u001b[1;32m----> 1\u001b[0m \u001b[39m\"\u001b[39m\u001b[39m<\u001b[39m\u001b[39m\"\u001b[39m\u001b[39m.\u001b[39mjoin(\u001b[39m1\u001b[39m)\n",
      "\u001b[1;31mTypeError\u001b[0m: can only join an iterable"
     ]
    }
   ],
   "source": [
    "\"<\".join(1)"
   ]
  },
  {
   "cell_type": "code",
   "execution_count": 4,
   "id": "ad888bf0",
   "metadata": {},
   "outputs": [
    {
     "name": "stdout",
     "output_type": "stream",
     "text": [
      "(1, '● test.ipynb', '[]', 1)\n",
      "(2, 'mssql', '[]', 1)\n",
      "(3, '', '-', 1)\n",
      "(4, 'data', '-', 1)\n",
      "(5, 'workss', '-', 1)\n",
      "(6, '20221215', '-', 1)\n",
      "(7, '#_単体テスト仕様書.xlsx', '[]', 1)\n",
      "(8, 'active_20221215162205.csv', '[]', 1)\n",
      "(9, '(無題)1', '[]', 1)\n",
      "(10, 'Microsoft Excel', '-', 1)\n",
      "(11, 'active_20221215162318.csv', '[]', 1)\n"
     ]
    }
   ],
   "source": [
    "all_data = rdb.show_table_data(mode=1)\n",
    "for i in all_data:\n",
    "    print(i)"
   ]
  },
  {
   "cell_type": "code",
   "execution_count": 9,
   "id": "181905c3",
   "metadata": {},
   "outputs": [
    {
     "name": "stdout",
     "output_type": "stream",
     "text": [
      "{(5, 48), (6, 48)}\n"
     ]
    }
   ],
   "source": [
    "result = rdb.execute_select('Googlehrome', 'tedfght')\n",
    "print(result)"
   ]
  },
  {
   "cell_type": "code",
   "execution_count": 14,
   "id": "9dc0a1ab",
   "metadata": {},
   "outputs": [
    {
     "ename": "TypeError",
     "evalue": "execute_select() takes 3 positional arguments but 4 were given",
     "output_type": "error",
     "traceback": [
      "\u001b[1;31m---------------------------------------------------------------------------\u001b[0m",
      "\u001b[1;31mTypeError\u001b[0m                                 Traceback (most recent call last)",
      "Cell \u001b[1;32mIn [14], line 1\u001b[0m\n\u001b[1;32m----> 1\u001b[0m rdb\u001b[39m.\u001b[39mupdate_data(\u001b[39m'\u001b[39m\u001b[39mGoogleChrome\u001b[39m\u001b[39m'\u001b[39m, \u001b[39m'\u001b[39m\u001b[39mtest\u001b[39m\u001b[39m'\u001b[39m,\u001b[39m98\u001b[39m)\n",
      "File \u001b[1;32mc:\\work\\python\\workss\\recorde_active_window\\handle_raw.py:24\u001b[0m, in \u001b[0;36mHandleRaw.update_data\u001b[1;34m(self, MajorItem, MinorItem, time)\u001b[0m\n\u001b[0;32m     22\u001b[0m \u001b[39melse\u001b[39;00m:\n\u001b[0;32m     23\u001b[0m     time \u001b[39m=\u001b[39m \u001b[39mint\u001b[39m(result[\u001b[39m1\u001b[39m]) \u001b[39m+\u001b[39m \u001b[39mint\u001b[39m(time)\n\u001b[1;32m---> 24\u001b[0m     result \u001b[39m=\u001b[39m \u001b[39mself\u001b[39;49m\u001b[39m.\u001b[39;49mupdate_db(MajorItem,MinorItem,time)\n\u001b[0;32m     25\u001b[0m     \u001b[39mprint\u001b[39m(result)\n",
      "File \u001b[1;32mc:\\work\\python\\workss\\recorde_active_window\\raw.py:62\u001b[0m, in \u001b[0;36mRecodeToDB.update_db\u001b[1;34m(self, MajorItem, MinorItem, time)\u001b[0m\n\u001b[0;32m     60\u001b[0m sqlline \u001b[39m=\u001b[39m \u001b[39mf\u001b[39m\u001b[39m\"\u001b[39m\u001b[39mupdate awrecorde set(time)=\u001b[39m\u001b[39m{\u001b[39;00mtime\u001b[39m}\u001b[39;00m\u001b[39m where MajorItem=\u001b[39m\u001b[39m'\u001b[39m\u001b[39m{\u001b[39;00mMajorItem\u001b[39m}\u001b[39;00m\u001b[39m'\u001b[39m\u001b[39m and MinorItem=\u001b[39m\u001b[39m'\u001b[39m\u001b[39m{\u001b[39;00mMinorItem\u001b[39m}\u001b[39;00m\u001b[39m'\u001b[39m\u001b[39m\"\u001b[39m\n\u001b[0;32m     61\u001b[0m \u001b[39mself\u001b[39m\u001b[39m.\u001b[39mexecute_sqlline(sqlline)\n\u001b[1;32m---> 62\u001b[0m \u001b[39mreturn\u001b[39;00m \u001b[39mself\u001b[39;49m\u001b[39m.\u001b[39;49mexecute_select(MajorItem,MinorItem,time)\n",
      "\u001b[1;31mTypeError\u001b[0m: execute_select() takes 3 positional arguments but 4 were given"
     ]
    }
   ],
   "source": [
    "rdb.update_data('GoogleChrome', 'test',98)\n"
   ]
  },
  {
   "cell_type": "code",
   "execution_count": 8,
   "id": "9f98b99a",
   "metadata": {},
   "outputs": [
    {
     "data": {
      "text/plain": [
       "(1, 'GoogleChrome', 'test', 45)"
      ]
     },
     "execution_count": 8,
     "metadata": {},
     "output_type": "execute_result"
    }
   ],
   "source": [
    "r[0]"
   ]
  },
  {
   "cell_type": "code",
   "execution_count": 10,
   "id": "a6a1d12c",
   "metadata": {},
   "outputs": [],
   "source": [
    "insertdata = [('Googlehrome', 'tedfght', 48),\n",
    "            ]\n",
    "\n",
    "rdb.execute_insert_sqlline(insertdata)"
   ]
  },
  {
   "cell_type": "code",
   "execution_count": 11,
   "id": "0290484d",
   "metadata": {},
   "outputs": [],
   "source": [
    "sqlline = \"select * from sqlite_master;\"\n",
    "sqlline = \"select *  from awrecorde;\"\n",
    "# sqlline = \"INSERT INTO awrecorde(MajorItem , MinorItem , time ) VALUES ('test','tests',3)\""
   ]
  },
  {
   "cell_type": "code",
   "execution_count": 12,
   "id": "de14554b",
   "metadata": {},
   "outputs": [
    {
     "data": {
      "text/plain": [
       "[(1, 'GoogleChrome', 'test', 45),\n",
       " (2, 'GoogleChrome', 'test', 45),\n",
       " (3, 'GoogleChrome', 'test', 48),\n",
       " (4, 'GoogleChrome', 'tedfght', 48),\n",
       " (5, 'Googlehrome', 'tedfght', 48),\n",
       " (6, 'Googlehrome', 'tedfght', 48)]"
      ]
     },
     "execution_count": 12,
     "metadata": {},
     "output_type": "execute_result"
    }
   ],
   "source": [
    "rdb.execute_select(sqlline)"
   ]
  },
  {
   "cell_type": "code",
   "execution_count": 37,
   "id": "13f57d09",
   "metadata": {},
   "outputs": [],
   "source": [
    "rdb.execute_select(sqlline)"
   ]
  },
  {
   "cell_type": "code",
   "execution_count": null,
   "id": "e5592c1f",
   "metadata": {},
   "outputs": [],
   "source": []
  },
  {
   "cell_type": "code",
   "execution_count": null,
   "id": "0710485f",
   "metadata": {},
   "outputs": [],
   "source": []
  },
  {
   "cell_type": "code",
   "execution_count": null,
   "id": "0238d389",
   "metadata": {},
   "outputs": [],
   "source": []
  },
  {
   "cell_type": "code",
   "execution_count": null,
   "id": "ab873c0a",
   "metadata": {},
   "outputs": [],
   "source": []
  }
 ],
 "metadata": {
  "kernelspec": {
   "display_name": "Python 3.9.13 64-bit",
   "language": "python",
   "name": "python3"
  },
  "language_info": {
   "codemirror_mode": {
    "name": "ipython",
    "version": 3
   },
   "file_extension": ".py",
   "mimetype": "text/x-python",
   "name": "python",
   "nbconvert_exporter": "python",
   "pygments_lexer": "ipython3",
   "version": "3.9.13"
  },
  "vscode": {
   "interpreter": {
    "hash": "6888b134dd8f70091da275852550fd120b638552cc77c9f16e1fffd6a892102a"
   }
  }
 },
 "nbformat": 4,
 "nbformat_minor": 5
}
